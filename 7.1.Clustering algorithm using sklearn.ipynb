{
 "cells": [
  {
   "cell_type": "code",
   "execution_count": 1,
   "id": "fbcef421",
   "metadata": {},
   "outputs": [],
   "source": [
    "import pandas as pd\n",
    "import numpy as np\n",
    "import matplotlib.pyplot as plt\n",
    "import seaborn as sns\n",
    "%matplotlib inline"
   ]
  },
  {
   "cell_type": "code",
   "execution_count": 2,
   "id": "37a4c6fe",
   "metadata": {},
   "outputs": [],
   "source": [
    "#my datset\n",
    "ml = pd.read_csv(\"train.csv\")\n",
    "import warnings\n",
    "warnings.filterwarnings('ignore')"
   ]
  },
  {
   "cell_type": "code",
   "execution_count": 3,
   "id": "73d727a2",
   "metadata": {},
   "outputs": [
    {
     "data": {
      "text/html": [
       "<div>\n",
       "<style scoped>\n",
       "    .dataframe tbody tr th:only-of-type {\n",
       "        vertical-align: middle;\n",
       "    }\n",
       "\n",
       "    .dataframe tbody tr th {\n",
       "        vertical-align: top;\n",
       "    }\n",
       "\n",
       "    .dataframe thead th {\n",
       "        text-align: right;\n",
       "    }\n",
       "</style>\n",
       "<table border=\"1\" class=\"dataframe\">\n",
       "  <thead>\n",
       "    <tr style=\"text-align: right;\">\n",
       "      <th></th>\n",
       "      <th>Unnamed: 0</th>\n",
       "      <th>Destination Port</th>\n",
       "      <th>Flow Duration</th>\n",
       "      <th>Total Fwd Packets</th>\n",
       "      <th>Total Backward Packets</th>\n",
       "      <th>Total Length of Fwd Packets</th>\n",
       "      <th>Total Length of Bwd Packets</th>\n",
       "      <th>Fwd Packet Length Max</th>\n",
       "      <th>Fwd Packet Length Min</th>\n",
       "      <th>Fwd Packet Length Mean</th>\n",
       "      <th>...</th>\n",
       "      <th>min_seg_size_forward</th>\n",
       "      <th>Active Mean</th>\n",
       "      <th>Active Std</th>\n",
       "      <th>Active Max</th>\n",
       "      <th>Active Min</th>\n",
       "      <th>Idle Mean</th>\n",
       "      <th>Idle Std</th>\n",
       "      <th>Idle Max</th>\n",
       "      <th>Idle Min</th>\n",
       "      <th>Label</th>\n",
       "    </tr>\n",
       "  </thead>\n",
       "  <tbody>\n",
       "    <tr>\n",
       "      <th>0</th>\n",
       "      <td>134857</td>\n",
       "      <td>43127</td>\n",
       "      <td>21.0</td>\n",
       "      <td>1</td>\n",
       "      <td>1</td>\n",
       "      <td>0</td>\n",
       "      <td>0</td>\n",
       "      <td>0</td>\n",
       "      <td>0</td>\n",
       "      <td>0.0</td>\n",
       "      <td>...</td>\n",
       "      <td>32.0</td>\n",
       "      <td>0.0</td>\n",
       "      <td>0.0</td>\n",
       "      <td>0</td>\n",
       "      <td>0</td>\n",
       "      <td>0.0</td>\n",
       "      <td>0.0</td>\n",
       "      <td>0</td>\n",
       "      <td>0</td>\n",
       "      <td>0</td>\n",
       "    </tr>\n",
       "    <tr>\n",
       "      <th>1</th>\n",
       "      <td>604</td>\n",
       "      <td>60250</td>\n",
       "      <td>61.0</td>\n",
       "      <td>1</td>\n",
       "      <td>1</td>\n",
       "      <td>0</td>\n",
       "      <td>0</td>\n",
       "      <td>0</td>\n",
       "      <td>0</td>\n",
       "      <td>0.0</td>\n",
       "      <td>...</td>\n",
       "      <td>32.0</td>\n",
       "      <td>0.0</td>\n",
       "      <td>0.0</td>\n",
       "      <td>0</td>\n",
       "      <td>0</td>\n",
       "      <td>0.0</td>\n",
       "      <td>0.0</td>\n",
       "      <td>0</td>\n",
       "      <td>0</td>\n",
       "      <td>0</td>\n",
       "    </tr>\n",
       "    <tr>\n",
       "      <th>2</th>\n",
       "      <td>792310</td>\n",
       "      <td>80</td>\n",
       "      <td>1.0</td>\n",
       "      <td>2</td>\n",
       "      <td>0</td>\n",
       "      <td>0</td>\n",
       "      <td>0</td>\n",
       "      <td>0</td>\n",
       "      <td>0</td>\n",
       "      <td>0.0</td>\n",
       "      <td>...</td>\n",
       "      <td>32.0</td>\n",
       "      <td>0.0</td>\n",
       "      <td>0.0</td>\n",
       "      <td>0</td>\n",
       "      <td>0</td>\n",
       "      <td>0.0</td>\n",
       "      <td>0.0</td>\n",
       "      <td>0</td>\n",
       "      <td>0</td>\n",
       "      <td>4</td>\n",
       "    </tr>\n",
       "    <tr>\n",
       "      <th>3</th>\n",
       "      <td>659776</td>\n",
       "      <td>54446</td>\n",
       "      <td>67.0</td>\n",
       "      <td>1</td>\n",
       "      <td>1</td>\n",
       "      <td>0</td>\n",
       "      <td>0</td>\n",
       "      <td>0</td>\n",
       "      <td>0</td>\n",
       "      <td>0.0</td>\n",
       "      <td>...</td>\n",
       "      <td>32.0</td>\n",
       "      <td>0.0</td>\n",
       "      <td>0.0</td>\n",
       "      <td>0</td>\n",
       "      <td>0</td>\n",
       "      <td>0.0</td>\n",
       "      <td>0.0</td>\n",
       "      <td>0</td>\n",
       "      <td>0</td>\n",
       "      <td>0</td>\n",
       "    </tr>\n",
       "    <tr>\n",
       "      <th>4</th>\n",
       "      <td>3160</td>\n",
       "      <td>53</td>\n",
       "      <td>32545.0</td>\n",
       "      <td>2</td>\n",
       "      <td>2</td>\n",
       "      <td>52</td>\n",
       "      <td>180</td>\n",
       "      <td>26</td>\n",
       "      <td>26</td>\n",
       "      <td>26.0</td>\n",
       "      <td>...</td>\n",
       "      <td>32.0</td>\n",
       "      <td>0.0</td>\n",
       "      <td>0.0</td>\n",
       "      <td>0</td>\n",
       "      <td>0</td>\n",
       "      <td>0.0</td>\n",
       "      <td>0.0</td>\n",
       "      <td>0</td>\n",
       "      <td>0</td>\n",
       "      <td>0</td>\n",
       "    </tr>\n",
       "  </tbody>\n",
       "</table>\n",
       "<p>5 rows × 80 columns</p>\n",
       "</div>"
      ],
      "text/plain": [
       "   Unnamed: 0  Destination Port  Flow Duration  Total Fwd Packets  \\\n",
       "0      134857             43127           21.0                  1   \n",
       "1         604             60250           61.0                  1   \n",
       "2      792310                80            1.0                  2   \n",
       "3      659776             54446           67.0                  1   \n",
       "4        3160                53        32545.0                  2   \n",
       "\n",
       "   Total Backward Packets  Total Length of Fwd Packets  \\\n",
       "0                       1                            0   \n",
       "1                       1                            0   \n",
       "2                       0                            0   \n",
       "3                       1                            0   \n",
       "4                       2                           52   \n",
       "\n",
       "   Total Length of Bwd Packets  Fwd Packet Length Max  Fwd Packet Length Min  \\\n",
       "0                            0                      0                      0   \n",
       "1                            0                      0                      0   \n",
       "2                            0                      0                      0   \n",
       "3                            0                      0                      0   \n",
       "4                          180                     26                     26   \n",
       "\n",
       "   Fwd Packet Length Mean  ...  min_seg_size_forward  Active Mean  Active Std  \\\n",
       "0                     0.0  ...                  32.0          0.0         0.0   \n",
       "1                     0.0  ...                  32.0          0.0         0.0   \n",
       "2                     0.0  ...                  32.0          0.0         0.0   \n",
       "3                     0.0  ...                  32.0          0.0         0.0   \n",
       "4                    26.0  ...                  32.0          0.0         0.0   \n",
       "\n",
       "   Active Max  Active Min  Idle Mean  Idle Std  Idle Max  Idle Min  Label  \n",
       "0           0           0        0.0       0.0         0         0      0  \n",
       "1           0           0        0.0       0.0         0         0      0  \n",
       "2           0           0        0.0       0.0         0         0      4  \n",
       "3           0           0        0.0       0.0         0         0      0  \n",
       "4           0           0        0.0       0.0         0         0      0  \n",
       "\n",
       "[5 rows x 80 columns]"
      ]
     },
     "execution_count": 3,
     "metadata": {},
     "output_type": "execute_result"
    }
   ],
   "source": [
    "ml.head()"
   ]
  },
  {
   "cell_type": "code",
   "execution_count": 4,
   "id": "3ee6fb24",
   "metadata": {},
   "outputs": [],
   "source": [
    "cols = ml.columns"
   ]
  },
  {
   "cell_type": "code",
   "execution_count": 5,
   "id": "edb2306c",
   "metadata": {},
   "outputs": [],
   "source": [
    "l=ml['Total Fwd Packets']+ml['Total Backward Packets']"
   ]
  },
  {
   "cell_type": "code",
   "execution_count": 6,
   "id": "924f2fe5",
   "metadata": {},
   "outputs": [
    {
     "data": {
      "text/plain": [
       "<seaborn.axisgrid.FacetGrid at 0x29487861340>"
      ]
     },
     "execution_count": 6,
     "metadata": {},
     "output_type": "execute_result"
    },
    {
     "data": {
      "image/png": "[encoded data removed]",
      "text/plain": [
       "<Figure size 911.25x432 with 1 Axes>"
      ]
     },
     "metadata": {},
     "output_type": "display_data"
    }
   ],
   "source": [
    "sns.set_style('whitegrid')\n",
    "sns.lmplot('Flow Duration','Total Fwd Packets',data=ml, hue='Label',\n",
    "           palette='coolwarm',size=6,aspect=2,fit_reg=False)"
   ]
  },
  {
   "cell_type": "code",
   "execution_count": 7,
   "id": "fcab6737",
   "metadata": {},
   "outputs": [],
   "source": [
    "from sklearn.cluster import KMeans"
   ]
  },
  {
   "cell_type": "code",
   "execution_count": 8,
   "id": "2e7ee0f4",
   "metadata": {},
   "outputs": [],
   "source": [
    "kmeans = KMeans(n_clusters=10)"
   ]
  },
  {
   "cell_type": "code",
   "execution_count": 9,
   "id": "2b1b5516",
   "metadata": {},
   "outputs": [
    {
     "data": {
      "text/plain": [
       "KMeans(n_clusters=10)"
      ]
     },
     "execution_count": 9,
     "metadata": {},
     "output_type": "execute_result"
    }
   ],
   "source": [
    "kmeans.fit(ml.drop('Label',axis=1))"
   ]
  },
  {
   "cell_type": "code",
   "execution_count": 10,
   "id": "e3a0cad8",
   "metadata": {},
   "outputs": [
    {
     "data": {
      "text/plain": [
       "array([[ 1.11908660e+06,  9.19096949e+03,  9.53808549e+05,\n",
       "         3.40717244e+00,  2.91107849e+00,  3.11068054e+02,\n",
       "         1.93602920e+03,  1.21885230e+02,  2.12326849e+01,\n",
       "         4.55088795e+01,  3.93618877e+01,  4.53828186e+02,\n",
       "         4.68474807e+01,  1.84450298e+02,  1.73247134e+02,\n",
       "         1.03978951e+06,  8.76275562e+04,  1.78468670e+05,\n",
       "         2.96193872e+05,  7.97253896e+05,  3.84344650e+04,\n",
       "         7.32523209e+05,  2.03592706e+05,  2.72423939e+05,\n",
       "         6.33930040e+05,  5.48115233e+04,  4.57941543e+05,\n",
       "         9.73624121e+04,  1.23182271e+05,  3.42770101e+05,\n",
       "         3.28434323e+04,  4.72919834e-02,  0.00000000e+00,\n",
       "         2.09720547e-04,  0.00000000e+00,  9.21845541e+01,\n",
       "         7.81309705e+01,  7.72587092e+04,  8.37650177e+03,\n",
       "         1.85697059e+01,  4.97966969e+02,  1.13536018e+02,\n",
       "         1.68250281e+02,  2.79484616e+05,  1.87175589e-02,\n",
       "         4.72919834e-02,  2.09720547e-04,  2.73370733e-01,\n",
       "         3.11120432e-01,  1.06905049e-01,  2.09720547e-04,\n",
       "         2.09720547e-04,  7.19970639e-01,  1.31131311e+02,\n",
       "         4.55088795e+01,  1.84450298e+02,  9.21845541e+01,\n",
       "         0.00000000e+00,  0.00000000e+00,  0.00000000e+00,\n",
       "         0.00000000e+00,  0.00000000e+00,  0.00000000e+00,\n",
       "         3.40717244e+00,  3.11068054e+02,  2.91107849e+00,\n",
       "         1.93602920e+03,  6.46680176e+03,  2.20504577e+03,\n",
       "         1.61070623e+00,  2.64507943e+01,  2.26606223e+04,\n",
       "         2.07775922e+03,  2.41336353e+04,  2.11925302e+04,\n",
       "         4.15986673e+05,  3.76296281e+03,  4.18673587e+05,\n",
       "         4.13327302e+05],\n",
       "       [ 1.39375667e+06,  4.18584026e+03,  6.89109686e+07,\n",
       "         2.36869010e+01,  2.66389776e+01,  1.90776358e+03,\n",
       "         4.21028658e+04,  7.75396166e+02,  9.62939297e+00,\n",
       "         1.88563818e+02,  2.93328802e+02,  2.67920128e+03,\n",
       "         2.41821086e+01,  8.89396787e+02,  1.09461894e+03,\n",
       "         6.84169450e+02,  7.81513423e-01,  7.83505767e+06,\n",
       "         1.82731268e+07,  6.27331809e+07,  9.41032319e+05,\n",
       "         6.78881089e+07,  1.60651394e+07,  1.98226581e+07,\n",
       "         6.25902937e+07,  7.54275787e+06,  3.88774194e+07,\n",
       "         1.55221199e+07,  7.82981138e+06,  3.62104209e+07,\n",
       "         1.21243737e+07,  1.43769968e-01,  0.00000000e+00,\n",
       "        -8.13151629e-20,  0.00000000e+00,  5.33853035e+02,\n",
       "         5.79859425e+02,  3.65492505e-01,  4.16020918e-01,\n",
       "         9.61022364e+00,  3.23909585e+03,  4.31782253e+02,\n",
       "         9.25713873e+02,  1.72801694e+06,  2.55591054e-02,\n",
       "         1.43769968e-01, -5.42101086e-20,  2.42811502e-01,\n",
       "         5.23961661e-01,  7.66773163e-02, -8.13151629e-20,\n",
       "        -5.42101086e-20,  4.60063898e-01,  4.60110062e+02,\n",
       "         1.88563818e+02,  8.89396787e+02,  5.33853035e+02,\n",
       "         0.00000000e+00,  0.00000000e+00,  0.00000000e+00,\n",
       "         0.00000000e+00,  0.00000000e+00,  0.00000000e+00,\n",
       "         2.36869010e+01,  1.90776358e+03,  2.66389776e+01,\n",
       "         4.21028658e+04,  8.18643770e+03,  5.76137380e+02,\n",
       "         1.88019169e+01,  2.24281150e+01,  7.45351069e+05,\n",
       "         7.54362044e+04,  8.00943629e+05,  6.90626518e+05,\n",
       "         4.80430598e+07,  1.90073009e+07,  6.16596985e+07,\n",
       "         3.46049669e+07],\n",
       "       [ 9.96415611e+05,  4.05772778e+04,  1.11111110e-01,\n",
       "         1.61111111e+00,  3.88888889e-01,  2.41333333e+02,\n",
       "         1.66666667e+00,  2.40000000e+02,  3.66666667e+00,\n",
       "         1.21833333e+02,  1.67112903e+02,  1.66666667e+00,\n",
       "         1.66666667e+00,  1.66666667e+00,  0.00000000e+00,\n",
       "         2.07083333e+09,  3.72222222e+06,  1.11111111e-01,\n",
       "         4.65661287e-10,  1.11111112e-01,  1.11111111e-01,\n",
       "         1.11111110e-01,  1.11111111e-01, -4.65661287e-10,\n",
       "         1.11111112e-01,  1.11111111e-01,  0.00000000e+00,\n",
       "         2.32830644e-10,  0.00000000e+00,  9.31322575e-10,\n",
       "         1.16415322e-10,  3.88888889e-01,  0.00000000e+00,\n",
       "         2.71050543e-20,  0.00000000e+00,  3.88888889e+01,\n",
       "         1.00000000e+01,  2.22222222e+05,  0.00000000e+00,\n",
       "         3.00000000e+00,  2.40000000e+02,  1.61000000e+02,\n",
       "         1.36832014e+02,  1.57121333e+05,  1.11111111e-01,\n",
       "         3.88888889e-01,  0.00000000e+00,  5.55111512e-17,\n",
       "         1.00000000e+00,  2.22222222e-01,  2.71050543e-20,\n",
       "         0.00000000e+00,  3.88888889e-01,  2.41500000e+02,\n",
       "         1.21833333e+02,  1.66666667e+00,  3.88888889e+01,\n",
       "         0.00000000e+00,  0.00000000e+00,  0.00000000e+00,\n",
       "         0.00000000e+00,  0.00000000e+00,  0.00000000e+00,\n",
       "         1.61111111e+00,  2.41333333e+02,  3.88888889e-01,\n",
       "         1.66666667e+00,  6.18894444e+03,  3.29488889e+03,\n",
       "         2.22222222e-01,  2.33333333e+01,  0.00000000e+00,\n",
       "         7.27595761e-12,  0.00000000e+00,  7.27595761e-12,\n",
       "         9.31322575e-10, -5.82076609e-11,  0.00000000e+00,\n",
       "         0.00000000e+00],\n",
       "       [ 1.05824104e+06,  5.04436893e+02,  5.37500391e+07,\n",
       "         2.54493759e+01,  2.38890430e+01,  1.67437032e+03,\n",
       "         3.06657642e+04,  5.92195562e+02,  6.80027739e+00,\n",
       "         8.83471909e+01,  1.80086872e+02,  1.33340222e+03,\n",
       "         8.19417476e+00,  3.80731665e+02,  4.46356918e+02,\n",
       "         6.41397033e+02,  9.30870131e-01,  6.50503599e+06,\n",
       "         5.14562590e+06,  1.78968497e+07,  3.76756976e+06,\n",
       "         5.12010506e+07,  9.18851830e+06,  4.96403939e+06,\n",
       "         1.75687496e+07,  5.46449529e+06,  4.21465103e+07,\n",
       "         5.17966477e+06,  3.60164803e+06,  9.86371779e+06,\n",
       "         1.94799653e+06,  4.57697642e-02,  0.00000000e+00,\n",
       "         1.35525272e-19,  0.00000000e+00,  6.02746186e+02,\n",
       "         5.95966713e+02,  4.59454345e-01,  4.71415787e-01,\n",
       "         6.67545076e+00,  1.43471429e+03,  2.36031484e+02,\n",
       "         3.96452657e+02,  2.48254993e+05,  1.38696255e-03,\n",
       "         4.57697642e-02,  1.38696255e-03,  7.78085992e-01,\n",
       "         1.30374480e-01,  5.27045770e-02,  1.35525272e-19,\n",
       "         1.38696255e-03,  4.85436893e-01,  2.45223200e+02,\n",
       "         8.83471909e+01,  3.80731665e+02,  6.02746186e+02,\n",
       "         0.00000000e+00,  0.00000000e+00,  0.00000000e+00,\n",
       "         0.00000000e+00,  0.00000000e+00,  0.00000000e+00,\n",
       "         2.54493759e+01,  1.67437032e+03,  2.38890430e+01,\n",
       "         3.06657642e+04,  2.07299931e+04,  2.43179334e+03,\n",
       "         1.37531207e+01,  2.52538141e+01,  6.75792611e+05,\n",
       "         4.57077125e+05,  1.42280314e+06,  3.97167484e+05,\n",
       "         1.19211717e+07,  7.93932521e+05,  1.27099302e+07,\n",
       "         1.11390089e+07],\n",
       "       [ 1.10681920e+06,  8.27500000e+01,  9.30619563e+07,\n",
       "         7.69065657e+00,  5.95959596e+00,  4.02180556e+02,\n",
       "         1.16676982e+04,  3.14515152e+02,  7.57575758e-03,\n",
       "         5.09960138e+01,  1.20988861e+02,  5.97347348e+03,\n",
       "         1.51515152e-02,  1.99417886e+03,  2.50692745e+03,\n",
       "         1.30760118e+02,  1.47805291e-01,  8.46760306e+06,\n",
       "         2.62789486e+07,  9.22836182e+07,  7.23992775e+05,\n",
       "         9.29236932e+07,  1.56722539e+07,  3.61624310e+07,\n",
       "         9.22836182e+07,  9.87915160e+05,  2.07965577e+05,\n",
       "         4.31016270e+04,  7.98564068e+04,  1.73179269e+05,\n",
       "         7.36111111e+01, -5.55111512e-17,  0.00000000e+00,\n",
       "         1.62630326e-19,  0.00000000e+00,  2.41909091e+02,\n",
       "         1.93378788e+02,  8.33738877e-02,  6.44314029e-02,\n",
       "         7.57575758e-03,  5.97458838e+03,  8.26365228e+02,\n",
       "         1.78483723e+03,  3.44642920e+06,  5.93434343e-02,\n",
       "        -5.55111512e-17, -2.16840434e-19,  6.31313131e-03,\n",
       "         9.34343434e-01, -2.77555756e-17,  1.62630326e-19,\n",
       "        -2.16840434e-19,  1.96969697e-01,  8.89577102e+02,\n",
       "         5.09960138e+01,  1.99417886e+03,  2.41909091e+02,\n",
       "         0.00000000e+00,  0.00000000e+00,  0.00000000e+00,\n",
       "         0.00000000e+00,  0.00000000e+00,  0.00000000e+00,\n",
       "         7.69065657e+00,  4.02180556e+02,  5.95959596e+00,\n",
       "         1.16676982e+04,  7.41406566e+02,  2.34316919e+02,\n",
       "         1.99242424e+00,  2.71969697e+01,  2.69102278e+05,\n",
       "        -2.18278728e-11,  2.69102278e+05,  2.69102278e+05,\n",
       "         9.16951081e+07,  8.30808081e+05,  9.22836182e+07,\n",
       "         9.11073556e+07],\n",
       "       [ 1.01058805e+06,  3.14013500e+04,  1.60000000e+00,\n",
       "         1.95000000e+00,  5.00000000e-02,  1.03710000e+03,\n",
       "        -9.09494702e-13,  1.03530000e+03,  1.00950000e+02,\n",
       "         5.68125000e+02,  6.60685221e+02,  0.00000000e+00,\n",
       "         0.00000000e+00,  0.00000000e+00, -5.68434189e-14,\n",
       "         6.59750000e+08,  1.62833333e+06,  1.60000000e+00,\n",
       "         0.00000000e+00,  1.60000000e+00,  1.60000000e+00,\n",
       "         1.40000000e+00,  1.40000000e+00, -4.65661287e-10,\n",
       "         1.40000000e+00,  1.40000000e+00, -1.86264515e-09,\n",
       "        -2.32830644e-10,  0.00000000e+00,  0.00000000e+00,\n",
       "        -1.16415322e-10,  1.00000000e+00,  0.00000000e+00,\n",
       "        -2.71050543e-20,  0.00000000e+00,  5.52000000e+01,\n",
       "         1.60000000e+00,  1.61583333e+06,  1.25000000e+04,\n",
       "         1.80000000e+00,  1.03530000e+03,  6.90800000e+02,\n",
       "         5.96691503e+02,  4.99349533e+05, -6.93889390e-18,\n",
       "         1.00000000e+00,  0.00000000e+00,  0.00000000e+00,\n",
       "         1.00000000e+00,  0.00000000e+00, -2.71050543e-20,\n",
       "         0.00000000e+00,  5.00000000e-02,  1.03620000e+03,\n",
       "         5.68125000e+02,  0.00000000e+00,  5.52000000e+01,\n",
       "         0.00000000e+00,  0.00000000e+00,  0.00000000e+00,\n",
       "         0.00000000e+00,  0.00000000e+00,  0.00000000e+00,\n",
       "         1.95000000e+00,  1.03710000e+03,  5.00000000e-02,\n",
       "        -9.09494702e-13,  1.24961000e+04,  1.17500000e+01,\n",
       "         3.00000000e-01,  2.84000000e+01,  0.00000000e+00,\n",
       "         0.00000000e+00,  0.00000000e+00, -1.45519152e-11,\n",
       "        -9.31322575e-10,  0.00000000e+00, -1.86264515e-09,\n",
       "         0.00000000e+00],\n",
       "       [ 1.03343929e+06,  5.08842922e+03,  9.50967002e+07,\n",
       "         6.19634703e+00,  6.88812785e+00,  1.60728311e+03,\n",
       "         9.70206621e+03,  9.44404110e+02,  1.52739726e+00,\n",
       "         2.44618565e+02,  3.87324839e+02,  4.91683105e+03,\n",
       "         3.87442922e+00,  1.40825289e+03,  1.92763983e+03,\n",
       "         1.20575045e+02,  1.38467745e-01,  8.32161892e+06,\n",
       "         2.76927888e+07,  9.42763713e+07,  4.11522831e+02,\n",
       "         9.50133183e+07,  2.00805520e+07,  4.29428091e+07,\n",
       "         9.44350400e+07,  3.35546050e+04,  9.50678998e+07,\n",
       "         1.74929388e+07,  4.00953423e+07,  9.47076772e+07,\n",
       "         3.52874658e+04,  9.13242009e-03,  0.00000000e+00,\n",
       "        -2.71050543e-20,  0.00000000e+00,  1.78520548e+02,\n",
       "         2.21671233e+02,  6.53251129e-02,  7.31426323e-02,\n",
       "         1.52739726e+00,  5.52234932e+03,  8.09977861e+02,\n",
       "         1.65904327e+03,  3.07778416e+06,  8.21917808e-01,\n",
       "         9.13242009e-03, -1.08420217e-19,  3.65296804e-02,\n",
       "         1.00456621e-01,  3.19634703e-02, -2.71050543e-20,\n",
       "        -1.08420217e-19,  8.47031963e-01,  8.73490481e+02,\n",
       "         2.44618565e+02,  1.40825289e+03,  1.78520548e+02,\n",
       "         0.00000000e+00,  0.00000000e+00,  0.00000000e+00,\n",
       "         0.00000000e+00,  0.00000000e+00,  0.00000000e+00,\n",
       "         6.19634703e+00,  1.60728311e+03,  6.88812785e+00,\n",
       "         9.70206621e+03,  1.75376256e+03,  2.21187215e+02,\n",
       "         3.06392694e+00,  2.14246575e+01,  9.49785616e+04,\n",
       "         1.95623190e+02,  9.51168881e+04,  9.48402352e+04,\n",
       "         9.29012572e+07,  1.94840183e+06,  9.42763713e+07,\n",
       "         9.15226499e+07],\n",
       "       [ 1.10210743e+06,  2.95515225e+02,  1.14530879e+08,\n",
       "         3.79500609e+01,  4.43434836e+01,  2.85080999e+03,\n",
       "         5.01077600e+04,  7.65973203e+02,  3.42265530e-01,\n",
       "         8.41990661e+01,  2.04712341e+02,  1.67869915e+03,\n",
       "         1.94884287e+00,  4.19351360e+02,  5.09526391e+02,\n",
       "         4.57332559e+02,  7.14249623e-01,  2.83234811e+06,\n",
       "         4.33489788e+06,  1.04301983e+07,  7.63777101e+02,\n",
       "         1.14304785e+08,  5.55724092e+06,  4.56266841e+06,\n",
       "         1.04602906e+07,  1.47001205e+05,  1.10797391e+08,\n",
       "         5.98495659e+06,  4.38556699e+06,  1.04856668e+07,\n",
       "         2.23814717e+05,  3.41047503e-02,  0.00000000e+00,\n",
       "         1.62630326e-19,  0.00000000e+00,  9.56082826e+02,\n",
       "         1.14635323e+03,  3.29787092e-01,  3.84462531e-01,\n",
       "         1.46163216e-01,  1.84260536e+03,  2.58551455e+02,\n",
       "         4.63714827e+02,  3.00070667e+05, -6.93889390e-18,\n",
       "         3.41047503e-02, -1.89735380e-19,  9.03775883e-01,\n",
       "         9.62241169e-02,  1.38777878e-17,  1.62630326e-19,\n",
       "        -1.89735380e-19,  3.21559074e-01,  2.62567991e+02,\n",
       "         8.41990661e+01,  4.19351360e+02,  9.56082826e+02,\n",
       "         0.00000000e+00,  0.00000000e+00,  0.00000000e+00,\n",
       "         0.00000000e+00,  0.00000000e+00,  0.00000000e+00,\n",
       "         3.79500609e+01,  2.85080999e+03,  4.43434836e+01,\n",
       "         5.01077600e+04,  1.80830499e+04,  3.44815104e+03,\n",
       "         2.24190012e+01,  2.53788063e+01,  2.78927012e+05,\n",
       "         4.72391232e+05,  1.49748773e+06,  8.13092144e+04,\n",
       "         1.01885240e+07,  4.78944009e+05,  1.04301983e+07,\n",
       "         8.94271312e+06],\n",
       "       [ 9.45699590e+05,  3.65191257e+02,  8.26316490e+07,\n",
       "         2.00000000e+00,  2.00000000e+00,  9.74863388e+01,\n",
       "         2.05874317e+02,  5.22240437e+01,  4.52622951e+01,\n",
       "         4.87431694e+01,  4.92269967e+00,  1.22311475e+02,\n",
       "         8.35628415e+01,  1.02937158e+02,  2.73994218e+01,\n",
       "         3.79078761e+00,  5.07703977e-02,  2.75423500e+07,\n",
       "         4.75786951e+07,  8.24965720e+07,  3.88413333e+04,\n",
       "         8.25555725e+07,  8.25555725e+07,  0.00000000e+00,\n",
       "         8.25555725e+07,  8.25555725e+07,  8.25817106e+07,\n",
       "         8.25817106e+07,  2.32830644e-10,  8.25817106e+07,\n",
       "         8.25817106e+07,  3.27868852e-02,  0.00000000e+00,\n",
       "         2.71050543e-20,  0.00000000e+00,  5.29180328e+01,\n",
       "         5.18251366e+01,  2.53851989e-02,  2.53851989e-02,\n",
       "         4.50000000e+01,  1.22573770e+02,  7.04010929e+01,\n",
       "         3.41228262e+01,  2.07962131e+03, -6.93889390e-18,\n",
       "         3.27868852e-02,  0.00000000e+00,  1.09289617e-02,\n",
       "         3.27868852e-02,  4.16333634e-17,  2.71050543e-20,\n",
       "         0.00000000e+00,  1.00000000e+00,  8.80013661e+01,\n",
       "         4.87431694e+01,  1.02937158e+02,  5.29180328e+01,\n",
       "         0.00000000e+00,  0.00000000e+00,  0.00000000e+00,\n",
       "         0.00000000e+00,  0.00000000e+00,  0.00000000e+00,\n",
       "         2.00000000e+00,  9.74863388e+01,  2.00000000e+00,\n",
       "         2.05874317e+02,  1.72666667e+02,  7.70491803e+00,\n",
       "         9.89071038e-01,  2.36284153e+01,  6.00988361e+04,\n",
       "         7.27595761e-12,  6.00988361e+04,  6.00988361e+04,\n",
       "         8.24965720e+07,  1.16415322e-10,  8.24965720e+07,\n",
       "         8.24965720e+07],\n",
       "       [ 1.15399311e+06,  4.57553184e+03,  1.12568983e+08,\n",
       "         3.14157303e+01,  3.80786517e+01,  2.83423596e+03,\n",
       "         4.52183446e+04,  1.01635206e+03,  7.00374532e-01,\n",
       "         2.24314189e+02,  3.49924881e+02,  1.52460300e+03,\n",
       "         5.14606742e+00,  4.36681789e+02,  4.73468543e+02,\n",
       "         4.13123550e+02,  6.03701651e-01,  4.02121571e+06,\n",
       "         1.39710976e+07,  5.98020899e+07,  8.06996255e+02,\n",
       "         1.12597270e+08,  8.27325193e+06,  1.99918938e+07,\n",
       "         6.04292478e+07,  1.25346581e+05,  1.11314411e+08,\n",
       "         1.11026539e+07,  1.98132108e+07,  6.11322614e+07,\n",
       "         2.56762501e+06,  1.04868914e-01,  0.00000000e+00,\n",
       "        -1.08420217e-19,  0.00000000e+00,  7.86411985e+02,\n",
       "         8.74516854e+02,  2.73608892e-01,  3.30092759e-01,\n",
       "         6.77902622e-01,  2.11199251e+03,  3.26089195e+02,\n",
       "         5.65801123e+02,  5.30249863e+05, -1.38777878e-17,\n",
       "         1.04868914e-01, -5.42101086e-20,  8.16479401e-01,\n",
       "         1.76029963e-01,  7.11610487e-02, -1.08420217e-19,\n",
       "        -5.42101086e-20,  6.10486891e-01,  3.35886625e+02,\n",
       "         2.24314189e+02,  4.36681789e+02,  7.86411985e+02,\n",
       "         0.00000000e+00,  0.00000000e+00,  0.00000000e+00,\n",
       "         0.00000000e+00,  0.00000000e+00,  0.00000000e+00,\n",
       "         3.14157303e+01,  2.83423596e+03,  3.80786517e+01,\n",
       "         4.52183446e+04,  1.29355918e+04,  8.62026217e+02,\n",
       "         2.22022472e+01,  2.33258427e+01,  6.67096697e+05,\n",
       "         7.22137806e+05,  1.21085941e+06,  1.57001813e+05,\n",
       "         5.24353728e+07,  8.01238375e+06,  5.98020899e+07,\n",
       "         4.65543474e+07]])"
      ]
     },
     "execution_count": 10,
     "metadata": {},
     "output_type": "execute_result"
    }
   ],
   "source": [
    "kmeans.cluster_centers_"
   ]
  },
  {
   "cell_type": "code",
   "execution_count": 11,
   "id": "903016cf",
   "metadata": {},
   "outputs": [],
   "source": [
    "X=ml\n",
    "y=ml['Label']"
   ]
  },
  {
   "cell_type": "code",
   "execution_count": 12,
   "id": "590c34e2",
   "metadata": {},
   "outputs": [
    {
     "name": "stdout",
     "output_type": "stream",
     "text": [
      "Result: 16697 out of 22646 samples were correctly labeled.\n"
     ]
    }
   ],
   "source": [
    "labels = kmeans.labels_\n",
    "\n",
    "# check how many of the samples were correctly labeled\n",
    "correct_labels = sum(y == labels)\n",
    "\n",
    "print(\"Result: %d out of %d samples were correctly labeled.\" % (correct_labels, y.size))"
   ]
  },
  {
   "cell_type": "code",
   "execution_count": 13,
   "id": "516f66b5",
   "metadata": {},
   "outputs": [
    {
     "name": "stdout",
     "output_type": "stream",
     "text": [
      "Accuracy score: 0.74\n"
     ]
    }
   ],
   "source": [
    "print('Accuracy score: {0:0.2f}'. format(correct_labels/float(y.size)))"
   ]
  },
  {
   "cell_type": "code",
   "execution_count": 14,
   "id": "1b929de3",
   "metadata": {},
   "outputs": [
    {
     "data": {
      "text/plain": [
       "array([0, 0, 0, ..., 0, 0, 0])"
      ]
     },
     "execution_count": 14,
     "metadata": {},
     "output_type": "execute_result"
    }
   ],
   "source": [
    "kmeans.labels_"
   ]
  },
  {
   "cell_type": "code",
   "execution_count": 15,
   "id": "dc66484b",
   "metadata": {},
   "outputs": [
    {
     "data": {
      "text/plain": [
       "9.499002091282555e+18"
      ]
     },
     "execution_count": 15,
     "metadata": {},
     "output_type": "execute_result"
    }
   ],
   "source": [
    "kmeans.inertia_"
   ]
  },
  {
   "cell_type": "code",
   "execution_count": 16,
   "id": "eab34304",
   "metadata": {},
   "outputs": [
    {
     "data": {
      "text/plain": [
       "9"
      ]
     },
     "execution_count": 16,
     "metadata": {},
     "output_type": "execute_result"
    }
   ],
   "source": [
    "kmeans.n_iter_"
   ]
  },
  {
   "cell_type": "code",
   "execution_count": 17,
   "id": "53f0fbcb",
   "metadata": {},
   "outputs": [
    {
     "data": {
      "text/plain": [
       "Counter({0: 19073,\n",
       "         6: 438,\n",
       "         1: 313,\n",
       "         7: 821,\n",
       "         4: 792,\n",
       "         3: 721,\n",
       "         9: 267,\n",
       "         8: 183,\n",
       "         5: 20,\n",
       "         2: 18})"
      ]
     },
     "execution_count": 17,
     "metadata": {},
     "output_type": "execute_result"
    }
   ],
   "source": [
    "from collections import Counter\n",
    "Counter(kmeans.labels_)"
   ]
  },
  {
   "cell_type": "code",
   "execution_count": 18,
   "id": "bfbcf4aa",
   "metadata": {},
   "outputs": [
    {
     "data": {
      "image/png": "[encoded data removed]",
      "text/plain": [
       "<Figure size 432x288 with 1 Axes>"
      ]
     },
     "metadata": {},
     "output_type": "display_data"
    }
   ],
   "source": [
    "from sklearn.cluster import KMeans\n",
    "cs = []\n",
    "for i in range(1, 10):\n",
    "    kmeans = KMeans(n_clusters = i, init = 'random', max_iter = 300, n_init = 10, random_state = 0)\n",
    "    kmeans.fit(X)\n",
    "    cs.append(kmeans.inertia_)\n",
    "plt.plot(range(1, 10), cs)\n",
    "plt.title('The Elbow Method')\n",
    "plt.xlabel('Number of clusters')\n",
    "plt.ylabel('CS')\n",
    "plt.show()"
   ]
  }
 ],
 "metadata": {
  "kernelspec": {
   "display_name": "Python 3 (ipykernel)",
   "language": "python",
   "name": "python3"
  },
  "language_info": {
   "codemirror_mode": {
    "name": "ipython",
    "version": 3
   },
   "file_extension": ".py",
   "mimetype": "text/x-python",
   "name": "python",
   "nbconvert_exporter": "python",
   "pygments_lexer": "ipython3",
   "version": "3.9.12"
  }
 },
 "nbformat": 4,
 "nbformat_minor": 5
}
