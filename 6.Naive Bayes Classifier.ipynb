{
 "cells": [
  {
   "cell_type": "code",
   "execution_count": 1,
   "id": "ed66081b",
   "metadata": {},
   "outputs": [],
   "source": [
    "import pandas as pd\n",
    "import numpy as np\n",
    "import matplotlib.pyplot as plt\n",
    "import seaborn as sns\n",
    "%matplotlib inline"
   ]
  },
  {
   "cell_type": "code",
   "execution_count": 2,
   "id": "bf1a9484",
   "metadata": {},
   "outputs": [],
   "source": [
    "#my datset\n",
    "m8 = pd.read_csv(\"train.csv\")\n",
    "import warnings\n",
    "warnings.filterwarnings('ignore')"
   ]
  },
  {
   "cell_type": "code",
   "execution_count": 3,
   "id": "93eb3a38",
   "metadata": {},
   "outputs": [
    {
     "data": {
      "text/html": [
       "<div>\n",
       "<style scoped>\n",
       "    .dataframe tbody tr th:only-of-type {\n",
       "        vertical-align: middle;\n",
       "    }\n",
       "\n",
       "    .dataframe tbody tr th {\n",
       "        vertical-align: top;\n",
       "    }\n",
       "\n",
       "    .dataframe thead th {\n",
       "        text-align: right;\n",
       "    }\n",
       "</style>\n",
       "<table border=\"1\" class=\"dataframe\">\n",
       "  <thead>\n",
       "    <tr style=\"text-align: right;\">\n",
       "      <th></th>\n",
       "      <th>Unnamed: 0</th>\n",
       "      <th>Destination Port</th>\n",
       "      <th>Flow Duration</th>\n",
       "      <th>Total Fwd Packets</th>\n",
       "      <th>Total Backward Packets</th>\n",
       "      <th>Total Length of Fwd Packets</th>\n",
       "      <th>Total Length of Bwd Packets</th>\n",
       "      <th>Fwd Packet Length Max</th>\n",
       "      <th>Fwd Packet Length Min</th>\n",
       "      <th>Fwd Packet Length Mean</th>\n",
       "      <th>...</th>\n",
       "      <th>min_seg_size_forward</th>\n",
       "      <th>Active Mean</th>\n",
       "      <th>Active Std</th>\n",
       "      <th>Active Max</th>\n",
       "      <th>Active Min</th>\n",
       "      <th>Idle Mean</th>\n",
       "      <th>Idle Std</th>\n",
       "      <th>Idle Max</th>\n",
       "      <th>Idle Min</th>\n",
       "      <th>Label</th>\n",
       "    </tr>\n",
       "  </thead>\n",
       "  <tbody>\n",
       "    <tr>\n",
       "      <th>0</th>\n",
       "      <td>134857</td>\n",
       "      <td>43127</td>\n",
       "      <td>21.0</td>\n",
       "      <td>1</td>\n",
       "      <td>1</td>\n",
       "      <td>0</td>\n",
       "      <td>0</td>\n",
       "      <td>0</td>\n",
       "      <td>0</td>\n",
       "      <td>0.0</td>\n",
       "      <td>...</td>\n",
       "      <td>32.0</td>\n",
       "      <td>0.0</td>\n",
       "      <td>0.0</td>\n",
       "      <td>0</td>\n",
       "      <td>0</td>\n",
       "      <td>0.0</td>\n",
       "      <td>0.0</td>\n",
       "      <td>0</td>\n",
       "      <td>0</td>\n",
       "      <td>0</td>\n",
       "    </tr>\n",
       "    <tr>\n",
       "      <th>1</th>\n",
       "      <td>604</td>\n",
       "      <td>60250</td>\n",
       "      <td>61.0</td>\n",
       "      <td>1</td>\n",
       "      <td>1</td>\n",
       "      <td>0</td>\n",
       "      <td>0</td>\n",
       "      <td>0</td>\n",
       "      <td>0</td>\n",
       "      <td>0.0</td>\n",
       "      <td>...</td>\n",
       "      <td>32.0</td>\n",
       "      <td>0.0</td>\n",
       "      <td>0.0</td>\n",
       "      <td>0</td>\n",
       "      <td>0</td>\n",
       "      <td>0.0</td>\n",
       "      <td>0.0</td>\n",
       "      <td>0</td>\n",
       "      <td>0</td>\n",
       "      <td>0</td>\n",
       "    </tr>\n",
       "    <tr>\n",
       "      <th>2</th>\n",
       "      <td>792310</td>\n",
       "      <td>80</td>\n",
       "      <td>1.0</td>\n",
       "      <td>2</td>\n",
       "      <td>0</td>\n",
       "      <td>0</td>\n",
       "      <td>0</td>\n",
       "      <td>0</td>\n",
       "      <td>0</td>\n",
       "      <td>0.0</td>\n",
       "      <td>...</td>\n",
       "      <td>32.0</td>\n",
       "      <td>0.0</td>\n",
       "      <td>0.0</td>\n",
       "      <td>0</td>\n",
       "      <td>0</td>\n",
       "      <td>0.0</td>\n",
       "      <td>0.0</td>\n",
       "      <td>0</td>\n",
       "      <td>0</td>\n",
       "      <td>4</td>\n",
       "    </tr>\n",
       "    <tr>\n",
       "      <th>3</th>\n",
       "      <td>659776</td>\n",
       "      <td>54446</td>\n",
       "      <td>67.0</td>\n",
       "      <td>1</td>\n",
       "      <td>1</td>\n",
       "      <td>0</td>\n",
       "      <td>0</td>\n",
       "      <td>0</td>\n",
       "      <td>0</td>\n",
       "      <td>0.0</td>\n",
       "      <td>...</td>\n",
       "      <td>32.0</td>\n",
       "      <td>0.0</td>\n",
       "      <td>0.0</td>\n",
       "      <td>0</td>\n",
       "      <td>0</td>\n",
       "      <td>0.0</td>\n",
       "      <td>0.0</td>\n",
       "      <td>0</td>\n",
       "      <td>0</td>\n",
       "      <td>0</td>\n",
       "    </tr>\n",
       "    <tr>\n",
       "      <th>4</th>\n",
       "      <td>3160</td>\n",
       "      <td>53</td>\n",
       "      <td>32545.0</td>\n",
       "      <td>2</td>\n",
       "      <td>2</td>\n",
       "      <td>52</td>\n",
       "      <td>180</td>\n",
       "      <td>26</td>\n",
       "      <td>26</td>\n",
       "      <td>26.0</td>\n",
       "      <td>...</td>\n",
       "      <td>32.0</td>\n",
       "      <td>0.0</td>\n",
       "      <td>0.0</td>\n",
       "      <td>0</td>\n",
       "      <td>0</td>\n",
       "      <td>0.0</td>\n",
       "      <td>0.0</td>\n",
       "      <td>0</td>\n",
       "      <td>0</td>\n",
       "      <td>0</td>\n",
       "    </tr>\n",
       "  </tbody>\n",
       "</table>\n",
       "<p>5 rows × 80 columns</p>\n",
       "</div>"
      ],
      "text/plain": [
       "   Unnamed: 0  Destination Port  Flow Duration  Total Fwd Packets  \\\n",
       "0      134857             43127           21.0                  1   \n",
       "1         604             60250           61.0                  1   \n",
       "2      792310                80            1.0                  2   \n",
       "3      659776             54446           67.0                  1   \n",
       "4        3160                53        32545.0                  2   \n",
       "\n",
       "   Total Backward Packets  Total Length of Fwd Packets  \\\n",
       "0                       1                            0   \n",
       "1                       1                            0   \n",
       "2                       0                            0   \n",
       "3                       1                            0   \n",
       "4                       2                           52   \n",
       "\n",
       "   Total Length of Bwd Packets  Fwd Packet Length Max  Fwd Packet Length Min  \\\n",
       "0                            0                      0                      0   \n",
       "1                            0                      0                      0   \n",
       "2                            0                      0                      0   \n",
       "3                            0                      0                      0   \n",
       "4                          180                     26                     26   \n",
       "\n",
       "   Fwd Packet Length Mean  ...  min_seg_size_forward  Active Mean  Active Std  \\\n",
       "0                     0.0  ...                  32.0          0.0         0.0   \n",
       "1                     0.0  ...                  32.0          0.0         0.0   \n",
       "2                     0.0  ...                  32.0          0.0         0.0   \n",
       "3                     0.0  ...                  32.0          0.0         0.0   \n",
       "4                    26.0  ...                  32.0          0.0         0.0   \n",
       "\n",
       "   Active Max  Active Min  Idle Mean  Idle Std  Idle Max  Idle Min  Label  \n",
       "0           0           0        0.0       0.0         0         0      0  \n",
       "1           0           0        0.0       0.0         0         0      0  \n",
       "2           0           0        0.0       0.0         0         0      4  \n",
       "3           0           0        0.0       0.0         0         0      0  \n",
       "4           0           0        0.0       0.0         0         0      0  \n",
       "\n",
       "[5 rows x 80 columns]"
      ]
     },
     "execution_count": 3,
     "metadata": {},
     "output_type": "execute_result"
    }
   ],
   "source": [
    "m8.head()"
   ]
  },
  {
   "cell_type": "code",
   "execution_count": 4,
   "id": "9fdce313",
   "metadata": {},
   "outputs": [],
   "source": [
    "from sklearn.model_selection import train_test_split\n",
    "x = m8.iloc[:, :-1]\n",
    "y = m8.iloc[:, -1]\n",
    "X_train, X_test, y_train, y_test = train_test_split(x, y, test_size=0.3, random_state=1, stratify=y)"
   ]
  },
  {
   "cell_type": "code",
   "execution_count": 5,
   "id": "45ad7bef",
   "metadata": {},
   "outputs": [],
   "source": [
    "class_probabilities = {}\n",
    "total_samples = len(y_train)\n",
    "\n",
    "for class_name in np.unique(y_train):\n",
    "    class_count = len(y_train[y_train == class_name])\n",
    "    class_probabilities[class_name] = class_count / total_samples"
   ]
  },
  {
   "cell_type": "code",
   "execution_count": 6,
   "id": "533c124c",
   "metadata": {},
   "outputs": [],
   "source": [
    "feature_probabilities = {}\n",
    "\n",
    "for class_name in np.unique(y_train):\n",
    "    # Select rows belonging to the current class\n",
    "    rows = X_train[y_train == class_name]\n",
    "    # Calculate mean and standard deviation for each feature\n",
    "    means = rows.mean(axis=0)\n",
    "    stds = rows.std(axis=0)\n",
    "    # Store the mean and standard deviation in a dictionary\n",
    "    feature_probabilities[class_name] = (means, stds)"
   ]
  },
  {
   "cell_type": "code",
   "execution_count": 7,
   "id": "c6bc1189",
   "metadata": {},
   "outputs": [],
   "source": [
    "def predict(X, class_probabilities, feature_probabilities):\n",
    "    # Calculate the posterior probability for each class\n",
    "    posteriors = {}\n",
    "    for class_name in class_probabilities:\n",
    "        class_prior = class_probabilities[class_name]\n",
    "        means, stds = feature_probabilities[class_name]\n",
    "        likelihood = np.exp(-(X - means) ** 2 / (2 * stds ** 2)) / (np.sqrt(2 * np.pi) * stds)\n",
    "        posterior = np.log(class_prior) + np.log(likelihood.prod(axis=0))\n",
    "        posteriors[class_name] = posterior\n",
    "    # Return the class with the highest posterior probability\n",
    "    return max(posteriors, key=posteriors.get)"
   ]
  },
  {
   "cell_type": "code",
   "execution_count": 8,
   "id": "e9d8469a",
   "metadata": {},
   "outputs": [],
   "source": [
    "predictions = []\n",
    "for i in range(len(X_test)):\n",
    "    prediction = predict(X_test.iloc[i], class_probabilities, feature_probabilities)\n",
    "    predictions.append(prediction)"
   ]
  },
  {
   "cell_type": "code",
   "execution_count": 9,
   "id": "dc91606d",
   "metadata": {},
   "outputs": [
    {
     "name": "stdout",
     "output_type": "stream",
     "text": [
      "Accuracy: 0.199440682955549\n"
     ]
    }
   ],
   "source": [
    "from sklearn.metrics import accuracy_score, precision_score, recall_score, f1_score\n",
    "print(\"Accuracy:\", accuracy_score(y_test, predictions))"
   ]
  },
  {
   "cell_type": "code",
   "execution_count": 10,
   "id": "8c0c023d",
   "metadata": {},
   "outputs": [
    {
     "name": "stdout",
     "output_type": "stream",
     "text": [
      "Precision: 0.31571596774906296\n"
     ]
    }
   ],
   "source": [
    "print(\"Precision:\", precision_score(y_test, predictions, average='macro'))"
   ]
  },
  {
   "cell_type": "code",
   "execution_count": 11,
   "id": "39151934",
   "metadata": {},
   "outputs": [
    {
     "name": "stdout",
     "output_type": "stream",
     "text": [
      "Recall: 0.4300495573779887\n"
     ]
    }
   ],
   "source": [
    "print(\"Recall:\", recall_score(y_test, predictions, average='macro'))"
   ]
  },
  {
   "cell_type": "code",
   "execution_count": 12,
   "id": "1a12efde",
   "metadata": {},
   "outputs": [
    {
     "name": "stdout",
     "output_type": "stream",
     "text": [
      "F1 score: 0.17973172077702393\n"
     ]
    }
   ],
   "source": [
    "print(\"F1 score:\", f1_score(y_test, predictions, average='macro'))"
   ]
  }
 ],
 "metadata": {
  "kernelspec": {
   "display_name": "Python 3 (ipykernel)",
   "language": "python",
   "name": "python3"
  },
  "language_info": {
   "codemirror_mode": {
    "name": "ipython",
    "version": 3
   },
   "file_extension": ".py",
   "mimetype": "text/x-python",
   "name": "python",
   "nbconvert_exporter": "python",
   "pygments_lexer": "ipython3",
   "version": "3.9.12"
  }
 },
 "nbformat": 4,
 "nbformat_minor": 5
}
